{
 "cells": [
  {
   "cell_type": "markdown",
   "metadata": {},
   "source": [
    "# Continuous Control\n",
    "\n",
    "---\n",
    "\n",
    "You are welcome to use this coding environment to train your agent for the project.  Follow the instructions below to get started!\n",
    "\n",
    "### 1. Start the Environment\n",
    "\n",
    "Run the next code cell to install a few packages.  This line will take a few minutes to run!"
   ]
  },
  {
   "cell_type": "code",
   "execution_count": 1,
   "metadata": {},
   "outputs": [],
   "source": [
    "from unityagents import UnityEnvironment\n",
    "import numpy as np"
   ]
  },
  {
   "cell_type": "markdown",
   "metadata": {},
   "source": [
    "The environments corresponding to both versions of the environment are already saved in the Workspace and can be accessed at the file paths provided below.  \n",
    "\n",
    "Please select one of the two options below for loading the environment."
   ]
  },
  {
   "cell_type": "code",
   "execution_count": 2,
   "metadata": {},
   "outputs": [
    {
     "name": "stderr",
     "output_type": "stream",
     "text": [
      "INFO:unityagents:\n",
      "'Academy' started successfully!\n",
      "Unity Academy name: Academy\n",
      "        Number of Brains: 1\n",
      "        Number of External Brains : 1\n",
      "        Lesson number : 0\n",
      "        Reset Parameters :\n",
      "\t\tgoal_speed -> 1.0\n",
      "\t\tgoal_size -> 5.0\n",
      "Unity brain name: ReacherBrain\n",
      "        Number of Visual Observations (per agent): 0\n",
      "        Vector Observation space type: continuous\n",
      "        Vector Observation space size (per agent): 33\n",
      "        Number of stacked Vector Observation: 1\n",
      "        Vector Action space type: continuous\n",
      "        Vector Action space size (per agent): 4\n",
      "        Vector Action descriptions: , , , \n"
     ]
    }
   ],
   "source": [
    "%matplotlib inline\n",
    "import matplotlib.pyplot as plt\n",
    "import numpy as np\n",
    "import model\n",
    "import torch\n",
    "from Agent import Agent\n",
    "from collections import deque\n",
    "from workspace_utils import active_session # keep session active\n",
    "# select this option to load version 1 (with a single agent) of the environment\n",
    "#env = UnityEnvironment(file_name='/data/Reacher_One_Linux_NoVis/Reacher_One_Linux_NoVis.x86_64')\n",
    "\n",
    "# select this option to load version 2 (with 20 agents) of the environment\n",
    "env = UnityEnvironment(file_name='Reacher\\Reacher_Windows_x86_64\\Reacher_Windows_x86_64\\Reacher.exe')"
   ]
  },
  {
   "cell_type": "markdown",
   "metadata": {},
   "source": [
    "Environments contain **_brains_** which are responsible for deciding the actions of their associated agents. Here we check for the first brain available, and set it as the default brain we will be controlling from Python."
   ]
  },
  {
   "cell_type": "code",
   "execution_count": 3,
   "metadata": {},
   "outputs": [],
   "source": [
    "# get the default brain\n",
    "brain_name = env.brain_names[0]\n",
    "brain = env.brains[brain_name]"
   ]
  },
  {
   "cell_type": "code",
   "execution_count": 4,
   "metadata": {},
   "outputs": [
    {
     "data": {
      "text/plain": [
       "True"
      ]
     },
     "execution_count": 4,
     "metadata": {},
     "output_type": "execute_result"
    }
   ],
   "source": [
    "torch.cuda.is_available()"
   ]
  },
  {
   "cell_type": "markdown",
   "metadata": {},
   "source": [
    "### 2. Examine the State and Action Spaces\n",
    "\n",
    "Run the code cell below to print some information about the environment."
   ]
  },
  {
   "cell_type": "code",
   "execution_count": 5,
   "metadata": {},
   "outputs": [
    {
     "name": "stdout",
     "output_type": "stream",
     "text": [
      "Number of agents: 1\n",
      "Size of each action: 4\n",
      "There are 1 agents. Each observes a state with length: 33\n",
      "The state for the first agent looks like: [ 0.00000000e+00 -4.00000000e+00  0.00000000e+00  1.00000000e+00\n",
      " -0.00000000e+00 -0.00000000e+00 -4.37113883e-08  0.00000000e+00\n",
      "  0.00000000e+00  0.00000000e+00  0.00000000e+00  0.00000000e+00\n",
      "  0.00000000e+00  0.00000000e+00 -1.00000000e+01  0.00000000e+00\n",
      "  1.00000000e+00 -0.00000000e+00 -0.00000000e+00 -4.37113883e-08\n",
      "  0.00000000e+00  0.00000000e+00  0.00000000e+00  0.00000000e+00\n",
      "  0.00000000e+00  0.00000000e+00  5.75471878e+00 -1.00000000e+00\n",
      "  5.55726671e+00  0.00000000e+00  1.00000000e+00  0.00000000e+00\n",
      " -1.68164849e-01]\n"
     ]
    }
   ],
   "source": [
    "# reset the environment\n",
    "env_info = env.reset(train_mode=True)[brain_name]\n",
    "\n",
    "# number of agents\n",
    "num_agents = len(env_info.agents)\n",
    "print('Number of agents:', num_agents)\n",
    "\n",
    "# size of each action\n",
    "action_size = brain.vector_action_space_size\n",
    "print('Size of each action:', action_size)\n",
    "\n",
    "# examine the state space \n",
    "states = env_info.vector_observations\n",
    "state_size = states.shape[1]\n",
    "print('There are {} agents. Each observes a state with length: {}'.format(states.shape[0], state_size))\n",
    "print('The state for the first agent looks like:', states[0])\n",
    "\n",
    "agent = Agent(state_size = 33, action_size = 4, no_agents= 20, random_seed = 2)"
   ]
  },
  {
   "cell_type": "markdown",
   "metadata": {},
   "source": [
    "### 3. Take Random Actions in the Environment\n",
    "\n",
    "In the next code cell, you will learn how to use the Python API to control the agent and receive feedback from the environment.\n",
    "\n",
    "Note that **in this coding environment, you will not be able to watch the agents while they are training**, and you should set `train_mode=True` to restart the environment."
   ]
  },
  {
   "cell_type": "code",
   "execution_count": 6,
   "metadata": {},
   "outputs": [
    {
     "name": "stdout",
     "output_type": "stream",
     "text": [
      "Total score (averaged over agents) this episode: 0.7399999834597111\n"
     ]
    }
   ],
   "source": [
    "env_info = env.reset(train_mode=True)[brain_name]      # reset the environment    \n",
    "states = env_info.vector_observations                  # get the current state (for each agent)\n",
    "scores = np.zeros(num_agents)                          # initialize the score (for each agent)\n",
    "while True:\n",
    "    actions = np.random.randn(num_agents, action_size) # select an action (for each agent)\n",
    "    actions = np.clip(actions, -1, 1)                  # all actions between -1 and 1\n",
    "    env_info = env.step(actions)[brain_name]           # send all actions to tne environment\n",
    "    next_states = env_info.vector_observations         # get next state (for each agent)\n",
    "    rewards = env_info.rewards                         # get reward (for each agent)\n",
    "    dones = env_info.local_done                        # see if episode finished\n",
    "    scores += env_info.rewards                         # update the score (for each agent)\n",
    "    states = next_states                               # roll over states to next time step\n",
    "    if np.any(dones):                                  # exit loop if episode finished\n",
    "        break\n",
    "print('Total score (averaged over agents) this episode: {}'.format(np.mean(scores)))"
   ]
  },
  {
   "cell_type": "code",
   "execution_count": 7,
   "metadata": {},
   "outputs": [
    {
     "name": "stdout",
     "output_type": "stream",
     "text": [
      " Episode 2 \tAverage Score: 0.80\n",
      " Episode 4 \tAverage Score: 0.90\n",
      " Episode 6 \tAverage Score: 0.99\n",
      " Episode 8 \tAverage Score: 0.86\n",
      " Episode 10 \tAverage Score: 0.41\n",
      " Episode 12 \tAverage Score: 2.79\n",
      " Episode 14 \tAverage Score: 1.42\n",
      " Episode 16 \tAverage Score: 1.12\n",
      " Episode 18 \tAverage Score: 0.86\n",
      " Episode 20 \tAverage Score: 1.06\n",
      " Episode 22 \tAverage Score: 1.66\n",
      " Episode 24 \tAverage Score: 1.70\n",
      " Episode 26 \tAverage Score: 1.78\n",
      " Episode 28 \tAverage Score: 2.14\n",
      " Episode 30 \tAverage Score: 0.88\n",
      " Episode 32 \tAverage Score: 1.73\n",
      " Episode 34 \tAverage Score: 2.22\n",
      " Episode 36 \tAverage Score: 1.69\n",
      " Episode 38 \tAverage Score: 3.91\n",
      " Episode 40 \tAverage Score: 2.23\n",
      " Episode 42 \tAverage Score: 5.14\n",
      " Episode 44 \tAverage Score: 3.71\n",
      " Episode 46 \tAverage Score: 2.63\n",
      " Episode 48 \tAverage Score: 3.97\n",
      " Episode 50 \tAverage Score: 4.21\n",
      " Episode 52 \tAverage Score: 3.82\n",
      " Episode 54 \tAverage Score: 3.69\n",
      " Episode 56 \tAverage Score: 5.67\n",
      " Episode 58 \tAverage Score: 7.33\n",
      " Episode 60 \tAverage Score: 7.30\n",
      " Episode 62 \tAverage Score: 8.46\n",
      " Episode 64 \tAverage Score: 3.90\n",
      " Episode 66 \tAverage Score: 6.59\n",
      " Episode 68 \tAverage Score: 5.05\n",
      " Episode 70 \tAverage Score: 6.65\n",
      " Episode 72 \tAverage Score: 4.64\n",
      " Episode 74 \tAverage Score: 4.56\n",
      " Episode 76 \tAverage Score: 8.79\n",
      " Episode 78 \tAverage Score: 6.77\n",
      " Episode 80 \tAverage Score: 6.65\n",
      " Episode 82 \tAverage Score: 7.39\n",
      " Episode 84 \tAverage Score: 8.86\n",
      " Episode 86 \tAverage Score: 5.88\n",
      " Episode 88 \tAverage Score: 2.14\n",
      " Episode 90 \tAverage Score: 11.01\n",
      " Episode 92 \tAverage Score: 6.98\n",
      " Episode 94 \tAverage Score: 5.32\n",
      " Episode 96 \tAverage Score: 7.79\n",
      " Episode 98 \tAverage Score: 8.59\n",
      " Episode 100 \tAverage Score: 7.96\n",
      " Episode 102 \tAverage Score: 5.38\n",
      " Episode 104 \tAverage Score: 5.91\n",
      " Episode 106 \tAverage Score: 10.04\n",
      " Episode 108 \tAverage Score: 5.12\n",
      " Episode 110 \tAverage Score: 9.05\n",
      " Episode 112 \tAverage Score: 7.14\n",
      " Episode 114 \tAverage Score: 5.63\n",
      " Episode 116 \tAverage Score: 7.89\n",
      " Episode 118 \tAverage Score: 8.17\n",
      " Episode 120 \tAverage Score: 9.06\n",
      " Episode 122 \tAverage Score: 16.40\n",
      " Episode 124 \tAverage Score: 9.59\n",
      " Episode 126 \tAverage Score: 9.77\n",
      " Episode 128 \tAverage Score: 15.62\n",
      " Episode 130 \tAverage Score: 8.64\n",
      " Episode 132 \tAverage Score: 10.35\n",
      " Episode 134 \tAverage Score: 10.34\n",
      " Episode 136 \tAverage Score: 12.54\n",
      " Episode 138 \tAverage Score: 12.29\n",
      " Episode 140 \tAverage Score: 12.53\n",
      " Episode 142 \tAverage Score: 6.26\n",
      " Episode 144 \tAverage Score: 10.65\n",
      " Episode 146 \tAverage Score: 13.76\n",
      " Episode 148 \tAverage Score: 18.99\n",
      " Episode 150 \tAverage Score: 14.10\n",
      " Episode 152 \tAverage Score: 13.10\n",
      " Episode 154 \tAverage Score: 12.62\n",
      " Episode 156 \tAverage Score: 7.13\n",
      " Episode 158 \tAverage Score: 26.02\n",
      " Episode 160 \tAverage Score: 11.42\n",
      " Episode 162 \tAverage Score: 9.33\n",
      " Episode 164 \tAverage Score: 15.14\n",
      " Episode 166 \tAverage Score: 8.22\n",
      " Episode 168 \tAverage Score: 11.72\n",
      " Episode 170 \tAverage Score: 12.24\n",
      " Episode 172 \tAverage Score: 12.61\n",
      " Episode 174 \tAverage Score: 16.31\n",
      " Episode 176 \tAverage Score: 13.83\n",
      " Episode 178 \tAverage Score: 8.78\n",
      " Episode 180 \tAverage Score: 13.03\n",
      " Episode 182 \tAverage Score: 9.92\n",
      " Episode 184 \tAverage Score: 19.56\n",
      " Episode 186 \tAverage Score: 15.50\n",
      " Episode 188 \tAverage Score: 13.00\n",
      " Episode 190 \tAverage Score: 10.28\n",
      " Episode 192 \tAverage Score: 17.90\n",
      " Episode 194 \tAverage Score: 10.86\n",
      " Episode 196 \tAverage Score: 22.08\n",
      " Episode 198 \tAverage Score: 8.12\n",
      " Episode 200 \tAverage Score: 16.96\n",
      " Episode 202 \tAverage Score: 13.28\n",
      " Episode 204 \tAverage Score: 14.97\n",
      " Episode 206 \tAverage Score: 15.40\n",
      " Episode 208 \tAverage Score: 6.04\n",
      " Episode 210 \tAverage Score: 11.26\n",
      " Episode 212 \tAverage Score: 10.02\n",
      " Episode 214 \tAverage Score: 12.13\n",
      " Episode 216 \tAverage Score: 12.63\n",
      " Episode 218 \tAverage Score: 9.81\n",
      " Episode 220 \tAverage Score: 12.40\n",
      " Episode 222 \tAverage Score: 19.34\n",
      " Episode 224 \tAverage Score: 12.04\n",
      " Episode 226 \tAverage Score: 8.41\n",
      " Episode 228 \tAverage Score: 12.27\n",
      " Episode 230 \tAverage Score: 10.38\n",
      " Episode 232 \tAverage Score: 6.71\n",
      " Episode 234 \tAverage Score: 16.55\n",
      " Episode 236 \tAverage Score: 11.02\n",
      " Episode 238 \tAverage Score: 8.21\n",
      " Episode 240 \tAverage Score: 17.26\n",
      " Episode 242 \tAverage Score: 16.42\n",
      " Episode 244 \tAverage Score: 16.53\n",
      " Episode 246 \tAverage Score: 17.94\n",
      " Episode 248 \tAverage Score: 8.10\n",
      " Episode 250 \tAverage Score: 23.12\n",
      " Episode 252 \tAverage Score: 16.86\n",
      " Episode 254 \tAverage Score: 17.78\n",
      " Episode 256 \tAverage Score: 19.29\n",
      " Episode 258 \tAverage Score: 18.41\n",
      " Episode 260 \tAverage Score: 17.35\n",
      " Episode 262 \tAverage Score: 9.75\n",
      " Episode 264 \tAverage Score: 8.55\n",
      " Episode 266 \tAverage Score: 18.11\n",
      " Episode 268 \tAverage Score: 8.40\n",
      " Episode 270 \tAverage Score: 13.48\n",
      " Episode 272 \tAverage Score: 16.54\n",
      " Episode 274 \tAverage Score: 13.04\n",
      " Episode 276 \tAverage Score: 19.47\n",
      " Episode 278 \tAverage Score: 14.14\n",
      " Episode 280 \tAverage Score: 14.32\n",
      " Episode 282 \tAverage Score: 14.94\n",
      " Episode 284 \tAverage Score: 16.06\n",
      " Episode 286 \tAverage Score: 14.24\n",
      " Episode 288 \tAverage Score: 15.35\n",
      " Episode 290 \tAverage Score: 9.75\n",
      " Episode 292 \tAverage Score: 8.77\n",
      " Episode 294 \tAverage Score: 19.88\n",
      " Episode 296 \tAverage Score: 12.00\n",
      " Episode 298 \tAverage Score: 15.83\n",
      " Episode 300 \tAverage Score: 15.72\n",
      " Episode 302 \tAverage Score: 9.83\n",
      " Episode 304 \tAverage Score: 22.45\n",
      " Episode 306 \tAverage Score: 12.93\n",
      " Episode 308 \tAverage Score: 13.49\n",
      " Episode 310 \tAverage Score: 14.14\n",
      " Episode 312 \tAverage Score: 15.20\n",
      " Episode 314 \tAverage Score: 10.69\n",
      " Episode 316 \tAverage Score: 18.67\n",
      " Episode 318 \tAverage Score: 15.20\n",
      " Episode 320 \tAverage Score: 16.39\n",
      " Episode 322 \tAverage Score: 12.19\n",
      " Episode 324 \tAverage Score: 7.98\n",
      " Episode 326 \tAverage Score: 10.81\n",
      " Episode 328 \tAverage Score: 11.62\n",
      " Episode 330 \tAverage Score: 22.98\n",
      " Episode 332 \tAverage Score: 12.58\n",
      " Episode 334 \tAverage Score: 14.34\n",
      " Episode 336 \tAverage Score: 10.94\n",
      " Episode 338 \tAverage Score: 21.27\n",
      " Episode 340 \tAverage Score: 11.79\n",
      " Episode 342 \tAverage Score: 9.07\n",
      " Episode 344 \tAverage Score: 16.10\n",
      " Episode 346 \tAverage Score: 9.16\n",
      " Episode 348 \tAverage Score: 12.33\n",
      " Episode 350 \tAverage Score: 13.77\n",
      " Episode 352 \tAverage Score: 12.32\n",
      " Episode 354 \tAverage Score: 8.77\n",
      " Episode 356 \tAverage Score: 11.77\n",
      " Episode 358 \tAverage Score: 13.47\n",
      " Episode 360 \tAverage Score: 16.13\n",
      " Episode 362 \tAverage Score: 15.89\n",
      " Episode 364 \tAverage Score: 18.18\n",
      " Episode 366 \tAverage Score: 17.42\n",
      " Episode 368 \tAverage Score: 8.65\n",
      " Episode 370 \tAverage Score: 19.93\n",
      " Episode 372 \tAverage Score: 16.83\n",
      " Episode 374 \tAverage Score: 14.27\n",
      " Episode 376 \tAverage Score: 19.49\n",
      " Episode 378 \tAverage Score: 11.33\n",
      " Episode 380 \tAverage Score: 19.21\n",
      " Episode 382 \tAverage Score: 17.41\n",
      " Episode 384 \tAverage Score: 20.70\n",
      " Episode 386 \tAverage Score: 8.29\n",
      " Episode 388 \tAverage Score: 14.04\n",
      " Episode 390 \tAverage Score: 12.95\n",
      " Episode 392 \tAverage Score: 17.08\n",
      " Episode 394 \tAverage Score: 17.81\n",
      " Episode 396 \tAverage Score: 15.96\n",
      " Episode 398 \tAverage Score: 14.31\n",
      " Episode 400 \tAverage Score: 18.43\n",
      " Episode 402 \tAverage Score: 19.14\n",
      " Episode 404 \tAverage Score: 20.30\n",
      " Episode 406 \tAverage Score: 11.80\n",
      " Episode 408 \tAverage Score: 15.61\n",
      " Episode 410 \tAverage Score: 18.20\n",
      " Episode 412 \tAverage Score: 13.30\n",
      " Episode 414 \tAverage Score: 17.63\n",
      " Episode 416 \tAverage Score: 17.75\n",
      " Episode 418 \tAverage Score: 29.02\n",
      " Episode 420 \tAverage Score: 30.83\n",
      "\n",
      "Environment solved in 420 episodes.\tAverage Score: 30.830\n"
     ]
    }
   ],
   "source": [
    "def ddpg(n_episodes = 1000, max_t = 1000, reset_time = 1000, print_every = 2):\n",
    "    scores_deque = deque(maxlen = print_every)\n",
    "    scores = []\n",
    "    for i_episode in range(1, n_episodes +1):\n",
    "        env_info = env.reset(train_mode=True)[brain_name]     # reset the environment    \n",
    "        state = env_info.vector_observations   \n",
    "        agent.reset()\n",
    "        score = np.zeros(num_agents)\n",
    "        for t in range(max_t):\n",
    "            if t % reset_time == 0:\n",
    "                agent.reset()\n",
    "            action = agent.act(state)\n",
    "            env_info = env.step(action)[brain_name]\n",
    "            next_state = env_info.vector_observations\n",
    "            reward = env_info.rewards\n",
    "            done =(env_info.local_done)\n",
    "            score += env_info.rewards\n",
    "            for i in range(num_agents):\n",
    "                \n",
    "                agent.step(state[i], action[i], reward[i], next_state[i], done[i])\n",
    "            state = next_state\n",
    "             #needs to be checked in multi case\n",
    "            if np.any(done):\n",
    "                break\n",
    "        scores_deque.append(score)\n",
    "        scores.append(score)\n",
    "        #print(\"\\r Episode {}\\tAverage Score: {:.2f}\".format(i_episode, np.mean(scores_deque)), end = \"\")\n",
    "        torch.save(agent.actor_local.state_dict(), \"checkpoint_actor.pth\")\n",
    "        torch.save(agent.critic_local.state_dict(), \"checkpoint_critic.pth\")\n",
    "        if i_episode % print_every == 0:\n",
    "            print(\"\\r Episode {} \\tAverage Score: {:.2f}\".format(i_episode, np.mean(scores_deque)))\n",
    "        if np.mean(scores_deque) > (30):\n",
    "            print('\\nEnvironment solved in {} episodes.\\tAverage Score: {:.3f}'.format(i_episode, np.mean(scores_deque)))\n",
    "            break\n",
    "    \n",
    "    return scores\n",
    "#with active_session():\n",
    "scores = ddpg()\n"
   ]
  },
  {
   "cell_type": "markdown",
   "metadata": {},
   "source": [
    "When finished, you can close the environment."
   ]
  },
  {
   "cell_type": "code",
   "execution_count": null,
   "metadata": {},
   "outputs": [],
   "source": []
  },
  {
   "cell_type": "code",
   "execution_count": 11,
   "metadata": {},
   "outputs": [
    {
     "data": {
      "image/png": "[encoded data removed]",
      "text/plain": [
       "<Figure size 432x288 with 1 Axes>"
      ]
     },
     "metadata": {
      "needs_background": "light"
     },
     "output_type": "display_data"
    }
   ],
   "source": [
    "fig = plt.figure()\n",
    "ax = fig.add_subplot(111)\n",
    "plt.plot(np.arange(1, len(scores) + 1), scores)\n",
    "plt.ylabel(\"Score\")\n",
    "plt.xlabel(\"Episode #\")\n",
    "plt.show()"
   ]
  },
  {
   "cell_type": "code",
   "execution_count": 9,
   "metadata": {},
   "outputs": [
    {
     "data": {
      "text/plain": [
       "1.0"
      ]
     },
     "execution_count": 9,
     "metadata": {},
     "output_type": "execute_result"
    }
   ],
   "source": [
    "float(True)"
   ]
  },
  {
   "cell_type": "code",
   "execution_count": 10,
   "metadata": {},
   "outputs": [],
   "source": [
    "env.close()"
   ]
  },
  {
   "cell_type": "markdown",
   "metadata": {},
   "source": [
    "### 4. It's Your Turn!\n",
    "\n",
    "Now it's your turn to train your own agent to solve the environment!  A few **important notes**:\n",
    "- When training the environment, set `train_mode=True`, so that the line for resetting the environment looks like the following:\n",
    "```python\n",
    "env_info = env.reset(train_mode=True)[brain_name]\n",
    "```\n",
    "- To structure your work, you're welcome to work directly in this Jupyter notebook, or you might like to start over with a new file!  You can see the list of files in the workspace by clicking on **_Jupyter_** in the top left corner of the notebook.\n",
    "- In this coding environment, you will not be able to watch the agents while they are training.  However, **_after training the agents_**, you can download the saved model weights to watch the agents on your own machine! "
   ]
  }
 ],
 "metadata": {
  "kernelspec": {
   "display_name": "Python 3",
   "language": "python",
   "name": "python3"
  },
  "language_info": {
   "codemirror_mode": {
    "name": "ipython",
    "version": 3
   },
   "file_extension": ".py",
   "mimetype": "text/x-python",
   "name": "python",
   "nbconvert_exporter": "python",
   "pygments_lexer": "ipython3",
   "version": "3.6.10"
  }
 },
 "nbformat": 4,
 "nbformat_minor": 2
}
