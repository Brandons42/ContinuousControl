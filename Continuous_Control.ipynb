{
 "cells": [
  {
   "cell_type": "markdown",
   "metadata": {},
   "source": [
    "# Continuous Control\n",
    "\n",
    "---\n",
    "\n",
    "You are welcome to use this coding environment to train your agent for the project.  Follow the instructions below to get started!\n",
    "\n",
    "### 1. Start the Environment\n",
    "\n",
    "Run the next code cell to install a few packages.  This line will take a few minutes to run!"
   ]
  },
  {
   "cell_type": "code",
   "execution_count": 1,
   "metadata": {},
   "outputs": [
    {
     "name": "stdout",
     "output_type": "stream",
     "text": [
      "\u001b[31mtensorflow 1.7.1 has requirement numpy>=1.13.3, but you'll have numpy 1.12.1 which is incompatible.\u001b[0m\r\n",
      "\u001b[31mipython 6.5.0 has requirement prompt-toolkit<2.0.0,>=1.0.15, but you'll have prompt-toolkit 3.0.5 which is incompatible.\u001b[0m\r\n"
     ]
    }
   ],
   "source": [
    "!pip -q install ./python"
   ]
  },
  {
   "cell_type": "markdown",
   "metadata": {},
   "source": [
    "The environments corresponding to both versions of the environment are already saved in the Workspace and can be accessed at the file paths provided below.  \n",
    "\n",
    "Please select one of the two options below for loading the environment."
   ]
  },
  {
   "cell_type": "code",
   "execution_count": 2,
   "metadata": {},
   "outputs": [
    {
     "name": "stderr",
     "output_type": "stream",
     "text": [
      "INFO:unityagents:\n",
      "'Academy' started successfully!\n",
      "Unity Academy name: Academy\n",
      "        Number of Brains: 1\n",
      "        Number of External Brains : 1\n",
      "        Lesson number : 0\n",
      "        Reset Parameters :\n",
      "\t\tgoal_speed -> 1.0\n",
      "\t\tgoal_size -> 5.0\n",
      "Unity brain name: ReacherBrain\n",
      "        Number of Visual Observations (per agent): 0\n",
      "        Vector Observation space type: continuous\n",
      "        Vector Observation space size (per agent): 33\n",
      "        Number of stacked Vector Observation: 1\n",
      "        Vector Action space type: continuous\n",
      "        Vector Action space size (per agent): 4\n",
      "        Vector Action descriptions: , , , \n"
     ]
    }
   ],
   "source": [
    "from unityagents import UnityEnvironment\n",
    "import gym\n",
    "%matplotlib inline\n",
    "import matplotlib.pyplot as plt\n",
    "import numpy as np\n",
    "import model\n",
    "import torch\n",
    "from Agent import Agent\n",
    "from collections import deque\n",
    "from workspace_utils import active_session # keep session active\n",
    "# select this option to load version 1 (with a single agent) of the environment\n",
    "#env = UnityEnvironment(file_name='/data/Reacher_One_Linux_NoVis/Reacher_One_Linux_NoVis.x86_64')\n",
    "\n",
    "# select this option to load version 2 (with 20 agents) of the environment\n",
    "env = UnityEnvironment(file_name='/data/Reacher_Linux_NoVis/Reacher.x86_64')"
   ]
  },
  {
   "cell_type": "markdown",
   "metadata": {},
   "source": [
    "Environments contain **_brains_** which are responsible for deciding the actions of their associated agents. Here we check for the first brain available, and set it as the default brain we will be controlling from Python."
   ]
  },
  {
   "cell_type": "code",
   "execution_count": 3,
   "metadata": {},
   "outputs": [],
   "source": [
    "# get the default brain\n",
    "brain_name = env.brain_names[0]\n",
    "brain = env.brains[brain_name]"
   ]
  },
  {
   "cell_type": "markdown",
   "metadata": {},
   "source": [
    "### 2. Examine the State and Action Spaces\n",
    "\n",
    "Run the code cell below to print some information about the environment."
   ]
  },
  {
   "cell_type": "code",
   "execution_count": 4,
   "metadata": {},
   "outputs": [
    {
     "name": "stdout",
     "output_type": "stream",
     "text": [
      "Number of agents: 20\n",
      "Size of each action: 4\n",
      "There are 20 agents. Each observes a state with length: 33\n",
      "The state for the first agent looks like: [  0.00000000e+00  -4.00000000e+00   0.00000000e+00   1.00000000e+00\n",
      "  -0.00000000e+00  -0.00000000e+00  -4.37113883e-08   0.00000000e+00\n",
      "   0.00000000e+00   0.00000000e+00   0.00000000e+00   0.00000000e+00\n",
      "   0.00000000e+00   0.00000000e+00  -1.00000000e+01   0.00000000e+00\n",
      "   1.00000000e+00  -0.00000000e+00  -0.00000000e+00  -4.37113883e-08\n",
      "   0.00000000e+00   0.00000000e+00   0.00000000e+00   0.00000000e+00\n",
      "   0.00000000e+00   0.00000000e+00   5.75471878e+00  -1.00000000e+00\n",
      "   5.55726624e+00   0.00000000e+00   1.00000000e+00   0.00000000e+00\n",
      "  -1.68164849e-01]\n"
     ]
    }
   ],
   "source": [
    "# reset the environment\n",
    "env_info = env.reset(train_mode=True)[brain_name]\n",
    "\n",
    "# number of agents\n",
    "num_agents = len(env_info.agents)\n",
    "print('Number of agents:', num_agents)\n",
    "\n",
    "# size of each action\n",
    "action_size = brain.vector_action_space_size\n",
    "print('Size of each action:', action_size)\n",
    "\n",
    "# examine the state space \n",
    "states = env_info.vector_observations\n",
    "state_size = states.shape[1]\n",
    "print('There are {} agents. Each observes a state with length: {}'.format(states.shape[0], state_size))\n",
    "print('The state for the first agent looks like:', states[0])\n",
    "\n",
    "agent = Agent(state_size = 33, action_size = 4, no_agents= 20, random_seed = 2)"
   ]
  },
  {
   "cell_type": "markdown",
   "metadata": {},
   "source": [
    "### 3. Take Random Actions in the Environment\n",
    "\n",
    "In the next code cell, you will learn how to use the Python API to control the agent and receive feedback from the environment.\n",
    "\n",
    "Note that **in this coding environment, you will not be able to watch the agents while they are training**, and you should set `train_mode=True` to restart the environment."
   ]
  },
  {
   "cell_type": "code",
   "execution_count": null,
   "metadata": {},
   "outputs": [],
   "source": [
    "env_info = env.reset(train_mode=True)[brain_name]      # reset the environment    \n",
    "states = env_info.vector_observations                  # get the current state (for each agent)\n",
    "scores = np.zeros(num_agents)                          # initialize the score (for each agent)\n",
    "while True:\n",
    "    actions = np.random.randn(num_agents, action_size) # select an action (for each agent)\n",
    "    actions = np.clip(actions, -1, 1)                  # all actions between -1 and 1\n",
    "    env_info = env.step(actions)[brain_name]           # send all actions to tne environment\n",
    "    next_states = env_info.vector_observations         # get next state (for each agent)\n",
    "    rewards = env_info.rewards                         # get reward (for each agent)\n",
    "    dones = env_info.local_done                        # see if episode finished\n",
    "    scores += env_info.rewards                         # update the score (for each agent)\n",
    "    states = next_states                               # roll over states to next time step\n",
    "    if np.any(dones):                                  # exit loop if episode finished\n",
    "        break\n",
    "print('Total score (averaged over agents) this episode: {}'.format(np.mean(scores)))"
   ]
  },
  {
   "cell_type": "code",
   "execution_count": null,
   "metadata": {},
   "outputs": [
    {
     "name": "stdout",
     "output_type": "stream",
     "text": [
      " Episode 2 \tAverage Score: 0.59\n",
      " Episode 4 \tAverage Score: 1.12\n",
      " Episode 6 \tAverage Score: 1.46\n",
      " Episode 8 \tAverage Score: 2.09\n",
      " Episode 10 \tAverage Score: 2.07\n",
      " Episode 12 \tAverage Score: 2.36\n",
      " Episode 14 \tAverage Score: 2.14\n",
      " Episode 16 \tAverage Score: 2.40\n",
      " Episode 18 \tAverage Score: 3.38\n",
      " Episode 20 \tAverage Score: 3.50\n",
      " Episode 22 \tAverage Score: 3.41\n",
      " Episode 24 \tAverage Score: 3.54\n",
      " Episode 26 \tAverage Score: 3.82\n",
      " Episode 28 \tAverage Score: 3.96\n",
      " Episode 30 \tAverage Score: 3.81\n",
      " Episode 32 \tAverage Score: 4.36\n",
      " Episode 34 \tAverage Score: 4.99\n",
      " Episode 36 \tAverage Score: 4.36\n",
      " Episode 38 \tAverage Score: 3.63\n",
      " Episode 40 \tAverage Score: 3.67\n",
      " Episode 42 \tAverage Score: 4.29\n",
      " Episode 44 \tAverage Score: 4.79\n",
      " Episode 46 \tAverage Score: 3.88\n",
      " Episode 48 \tAverage Score: 3.21\n",
      " Episode 50 \tAverage Score: 3.28\n",
      " Episode 52 \tAverage Score: 3.44\n",
      " Episode 54 \tAverage Score: 3.48\n",
      " Episode 56 \tAverage Score: 3.76\n",
      " Episode 58 \tAverage Score: 4.50\n",
      " Episode 60 \tAverage Score: 4.59\n",
      " Episode 62 \tAverage Score: 4.29\n",
      " Episode 64 \tAverage Score: 4.58\n",
      " Episode 66 \tAverage Score: 5.30\n",
      " Episode 68 \tAverage Score: 5.10\n",
      " Episode 70 \tAverage Score: 4.95\n",
      " Episode 72 \tAverage Score: 5.30\n",
      " Episode 74 \tAverage Score: 4.61\n",
      " Episode 76 \tAverage Score: 5.38\n",
      " Episode 78 \tAverage Score: 5.67\n",
      " Episode 80 \tAverage Score: 5.10\n",
      " Episode 82 \tAverage Score: 5.77\n",
      " Episode 84 \tAverage Score: 5.60\n",
      " Episode 86 \tAverage Score: 4.37\n",
      " Episode 88 \tAverage Score: 5.54\n",
      " Episode 90 \tAverage Score: 5.37\n",
      " Episode 92 \tAverage Score: 5.43\n",
      " Episode 94 \tAverage Score: 5.36\n",
      " Episode 96 \tAverage Score: 6.57\n",
      " Episode 98 \tAverage Score: 5.42\n",
      " Episode 100 \tAverage Score: 6.64\n",
      " Episode 102 \tAverage Score: 6.89\n",
      " Episode 104 \tAverage Score: 7.66\n",
      " Episode 106 \tAverage Score: 6.87\n",
      " Episode 108 \tAverage Score: 6.21\n",
      " Episode 110 \tAverage Score: 5.94\n",
      " Episode 112 \tAverage Score: 5.25\n",
      " Episode 114 \tAverage Score: 6.01\n",
      " Episode 116 \tAverage Score: 5.86\n",
      " Episode 118 \tAverage Score: 6.18\n",
      " Episode 120 \tAverage Score: 6.64\n",
      " Episode 122 \tAverage Score: 5.12\n",
      " Episode 124 \tAverage Score: 6.36\n",
      " Episode 126 \tAverage Score: 6.37\n",
      " Episode 128 \tAverage Score: 6.33\n",
      " Episode 130 \tAverage Score: 5.68\n",
      " Episode 132 \tAverage Score: 6.04\n",
      " Episode 134 \tAverage Score: 5.78\n",
      " Episode 136 \tAverage Score: 6.60\n",
      " Episode 138 \tAverage Score: 5.74\n",
      " Episode 140 \tAverage Score: 5.46\n",
      " Episode 142 \tAverage Score: 5.28\n",
      " Episode 144 \tAverage Score: 5.34\n",
      " Episode 146 \tAverage Score: 5.32\n",
      " Episode 148 \tAverage Score: 5.12\n",
      " Episode 150 \tAverage Score: 4.74\n",
      " Episode 152 \tAverage Score: 4.80\n",
      " Episode 154 \tAverage Score: 4.85\n",
      " Episode 156 \tAverage Score: 3.97\n",
      " Episode 158 \tAverage Score: 3.61\n",
      " Episode 160 \tAverage Score: 4.45\n",
      " Episode 162 \tAverage Score: 4.94\n",
      " Episode 164 \tAverage Score: 5.40\n",
      " Episode 166 \tAverage Score: 4.91\n",
      " Episode 168 \tAverage Score: 4.89\n",
      " Episode 170 \tAverage Score: 4.55\n",
      " Episode 172 \tAverage Score: 4.04\n",
      " Episode 174 \tAverage Score: 5.19\n"
     ]
    }
   ],
   "source": [
    "def ddpg(n_episodes = 1000, max_t = 1000, reset_time = 100, print_every = 2):\n",
    "    scores_deque = deque(maxlen = print_every)\n",
    "    scores = []\n",
    "    for i_episode in range(1, n_episodes +1):\n",
    "        env_info = env.reset(train_mode=True)[brain_name]     # reset the environment    \n",
    "        state = env_info.vector_observations   \n",
    "        agent.reset()\n",
    "        score = np.zeros(num_agents)\n",
    "        for t in range(max_t):\n",
    "            if t % reset_time == 0:\n",
    "                agent.reset()\n",
    "            action = agent.act(state)\n",
    "            env_info = env.step(action)[brain_name]\n",
    "            next_state = env_info.vector_observations\n",
    "            reward = env_info.rewards\n",
    "            done =(env_info.local_done)\n",
    "            for i in range(20):\n",
    "                \n",
    "                agent.step(state[i], action[i], reward[i], next_state[i], float(done[i]))\n",
    "            state = next_state\n",
    "            score = score + (reward) #needs to be checked in multi case\n",
    "            if np.any(done):\n",
    "                break\n",
    "        scores_deque.append(score)\n",
    "        scores.append(score)\n",
    "        #print(\"\\r Episode {}\\tAverage Score: {:.2f}\".format(i_episode, np.mean(scores_deque)), end = \"\")\n",
    "        torch.save(agent.actor_local.state_dict(), \"checkpoint_actor.pth\")\n",
    "        torch.save(agent.critic_local.state_dict(), \"checkpoint_critic.pth\")\n",
    "        if i_episode % print_every == 0:\n",
    "            print(\"\\r Episode {} \\tAverage Score: {:.2f}\".format(i_episode, np.mean(scores_deque)))\n",
    "        if np.mean(scores_deque) > (35.0):\n",
    "            print('\\nEnvironment solved in {} episodes.\\tAverage Score: {:.3f}'.format(i_episode, np.mean(scores_deque)))\n",
    "            break\n",
    "    \n",
    "    return scores\n",
    "with active_session():\n",
    "    scores = ddpg()\n"
   ]
  },
  {
   "cell_type": "markdown",
   "metadata": {},
   "source": [
    "When finished, you can close the environment."
   ]
  },
  {
   "cell_type": "code",
   "execution_count": null,
   "metadata": {},
   "outputs": [],
   "source": []
  },
  {
   "cell_type": "code",
   "execution_count": null,
   "metadata": {},
   "outputs": [],
   "source": [
    "fig = plt.figure()\n",
    "ax = fig.add_subplot(111)\n",
    "plt.plot(np.arange(1, len(scores) + 1), scores)\n",
    "plt.ylabel(\"Score\")\n",
    "plt.xlabel(\"Episode #\")\n",
    "plt.show()"
   ]
  },
  {
   "cell_type": "code",
   "execution_count": null,
   "metadata": {},
   "outputs": [],
   "source": [
    "float(True)"
   ]
  },
  {
   "cell_type": "code",
   "execution_count": null,
   "metadata": {},
   "outputs": [],
   "source": [
    "env.close()"
   ]
  },
  {
   "cell_type": "markdown",
   "metadata": {},
   "source": [
    "### 4. It's Your Turn!\n",
    "\n",
    "Now it's your turn to train your own agent to solve the environment!  A few **important notes**:\n",
    "- When training the environment, set `train_mode=True`, so that the line for resetting the environment looks like the following:\n",
    "```python\n",
    "env_info = env.reset(train_mode=True)[brain_name]\n",
    "```\n",
    "- To structure your work, you're welcome to work directly in this Jupyter notebook, or you might like to start over with a new file!  You can see the list of files in the workspace by clicking on **_Jupyter_** in the top left corner of the notebook.\n",
    "- In this coding environment, you will not be able to watch the agents while they are training.  However, **_after training the agents_**, you can download the saved model weights to watch the agents on your own machine! "
   ]
  }
 ],
 "metadata": {
  "kernelspec": {
   "display_name": "Python 3",
   "language": "python",
   "name": "python3"
  },
  "language_info": {
   "codemirror_mode": {
    "name": "ipython",
    "version": 3
   },
   "file_extension": ".py",
   "mimetype": "text/x-python",
   "name": "python",
   "nbconvert_exporter": "python",
   "pygments_lexer": "ipython3",
   "version": "3.6.3"
  }
 },
 "nbformat": 4,
 "nbformat_minor": 2
}
